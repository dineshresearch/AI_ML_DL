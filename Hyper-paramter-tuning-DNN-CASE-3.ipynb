{
 "cells": [
  {
   "cell_type": "code",
   "execution_count": 1,
   "metadata": {},
   "outputs": [],
   "source": [
    "#Grid Search Hyperparameters\n",
    "\n",
    "#Hyperparameter Optimization\n",
    "\n",
    "#k-fold Cross Validation: k=5 or k=10 \n",
    "#Please use seed during cross validation to produce reproduicable results."
   ]
  },
  {
   "cell_type": "code",
   "execution_count": null,
   "metadata": {},
   "outputs": [
    {
     "name": "stderr",
     "output_type": "stream",
     "text": [
      "/usr/local/lib/python2.7/dist-packages/h5py/__init__.py:36: FutureWarning: Conversion of the second argument of issubdtype from `float` to `np.floating` is deprecated. In future, it will be treated as `np.float64 == np.dtype(float).type`.\n",
      "  from ._conv import register_converters as _register_converters\n",
      "Using TensorFlow backend.\n"
     ]
    },
    {
     "name": "stdout",
     "output_type": "stream",
     "text": [
      "Best: 0.794714 using {'learn_rate': 0.001, 'momentum': 0.0}\n",
      "0.794714 (0.210861) with: {'learn_rate': 0.001, 'momentum': 0.0}\n",
      "0.794714 (0.210861) with: {'learn_rate': 0.001, 'momentum': 0.2}\n",
      "0.794714 (0.210861) with: {'learn_rate': 0.001, 'momentum': 0.4}\n",
      "0.792070 (0.208708) with: {'learn_rate': 0.001, 'momentum': 0.6}\n",
      "0.790308 (0.207379) with: {'learn_rate': 0.001, 'momentum': 0.8}\n",
      "0.774009 (0.196233) with: {'learn_rate': 0.001, 'momentum': 0.9}\n",
      "0.781057 (0.201667) with: {'learn_rate': 0.01, 'momentum': 0.0}\n",
      "0.780617 (0.201169) with: {'learn_rate': 0.01, 'momentum': 0.2}\n",
      "0.768722 (0.193290) with: {'learn_rate': 0.01, 'momentum': 0.4}\n",
      "0.740529 (0.192075) with: {'learn_rate': 0.01, 'momentum': 0.6}\n",
      "0.692952 (0.206386) with: {'learn_rate': 0.01, 'momentum': 0.8}\n",
      "0.711013 (0.242383) with: {'learn_rate': 0.01, 'momentum': 0.9}\n",
      "0.689868 (0.207078) with: {'learn_rate': 0.1, 'momentum': 0.0}\n",
      "0.711454 (0.233580) with: {'learn_rate': 0.1, 'momentum': 0.2}\n",
      "0.696035 (0.243500) with: {'learn_rate': 0.1, 'momentum': 0.4}\n",
      "0.708370 (0.236292) with: {'learn_rate': 0.1, 'momentum': 0.6}\n",
      "0.716740 (0.166497) with: {'learn_rate': 0.1, 'momentum': 0.8}\n",
      "0.685903 (0.153708) with: {'learn_rate': 0.1, 'momentum': 0.9}\n",
      "0.751982 (0.271050) with: {'learn_rate': 0.2, 'momentum': 0.0}\n",
      "0.737445 (0.291548) with: {'learn_rate': 0.2, 'momentum': 0.2}\n",
      "0.749780 (0.274155) with: {'learn_rate': 0.2, 'momentum': 0.4}\n",
      "0.696035 (0.246623) with: {'learn_rate': 0.2, 'momentum': 0.6}\n",
      "0.714097 (0.201620) with: {'learn_rate': 0.2, 'momentum': 0.8}\n",
      "0.667841 (0.146337) with: {'learn_rate': 0.2, 'momentum': 0.9}\n",
      "0.794714 (0.210861) with: {'learn_rate': 0.3, 'momentum': 0.0}\n",
      "0.794714 (0.210861) with: {'learn_rate': 0.3, 'momentum': 0.2}\n",
      "0.734802 (0.227342) with: {'learn_rate': 0.3, 'momentum': 0.4}\n",
      "0.699119 (0.199192) with: {'learn_rate': 0.3, 'momentum': 0.6}\n",
      "0.688546 (0.175148) with: {'learn_rate': 0.3, 'momentum': 0.8}\n",
      "0.701322 (0.171799) with: {'learn_rate': 0.3, 'momentum': 0.9}\n"
     ]
    }
   ],
   "source": [
    "# Case 3: Use scikit-learn to grid search the learning rate and momentum\n",
    "import numpy\n",
    "from sklearn.model_selection import GridSearchCV\n",
    "from keras.models import Sequential\n",
    "from keras.layers import Dense\n",
    "from keras.wrappers.scikit_learn import KerasClassifier\n",
    "from keras.optimizers import SGD\n",
    "from sklearn.preprocessing import Normalizer\n",
    "# Function to create model, required for KerasClassifier\n",
    "def create_model(learn_rate=0.01, momentum=0):\n",
    "\t# create model\n",
    "\tmodel = Sequential()\n",
    "\tmodel.add(Dense(12, input_dim=600, activation='relu'))\n",
    "\tmodel.add(Dense(1, activation='sigmoid'))\n",
    "\t# Compile model\n",
    "\toptimizer = SGD(lr=learn_rate, momentum=momentum)\n",
    "\tmodel.compile(loss='binary_crossentropy', optimizer=optimizer, metrics=['accuracy'])\n",
    "\treturn model\n",
    "# fix random seed for reproducibility\n",
    "seed = 7\n",
    "numpy.random.seed(seed)\n",
    "# load dataset\n",
    "import pandas as pd\n",
    "dataset = pd.read_csv(\"Training.csv\")\n",
    "# split into input (X) and output (Y) variables\n",
    "X = dataset.iloc[:,0:600]\n",
    "Y = dataset.iloc[:,600]\n",
    "\n",
    "\n",
    "#normalize the data\n",
    "scaler = Normalizer().fit(X)\n",
    "X = scaler.transform(X)\n",
    "\n",
    "# create model\n",
    "model = KerasClassifier(build_fn=create_model, epochs=100, batch_size=10, verbose=0)\n",
    "# define the grid search parameters\n",
    "learn_rate = [0.001, 0.01, 0.1, 0.2, 0.3]\n",
    "momentum = [0.0, 0.2, 0.4, 0.6, 0.8, 0.9]\n",
    "param_grid = dict(learn_rate=learn_rate, momentum=momentum)\n",
    "grid = GridSearchCV(estimator=model, param_grid=param_grid, n_jobs=-1)\n",
    "grid_result = grid.fit(X, Y)\n",
    "# summarize results\n",
    "print(\"Best: %f using %s\" % (grid_result.best_score_, grid_result.best_params_))\n",
    "means = grid_result.cv_results_['mean_test_score']\n",
    "stds = grid_result.cv_results_['std_test_score']\n",
    "params = grid_result.cv_results_['params']\n",
    "for mean, stdev, param in zip(means, stds, params):\n",
    "    print(\"%f (%f) with: %r\" % (mean, stdev, param))"
   ]
  }
 ],
 "metadata": {
  "kernelspec": {
   "display_name": "Python 2",
   "language": "python",
   "name": "python2"
  },
  "language_info": {
   "codemirror_mode": {
    "name": "ipython",
    "version": 2
   },
   "file_extension": ".py",
   "mimetype": "text/x-python",
   "name": "python",
   "nbconvert_exporter": "python",
   "pygments_lexer": "ipython2",
   "version": "2.7.12"
  }
 },
 "nbformat": 4,
 "nbformat_minor": 2
}
